{
 "cells": [
  {
   "cell_type": "code",
   "execution_count": 1,
   "metadata": {
    "collapsed": true
   },
   "outputs": [],
   "source": [
    "# import stuff\n",
    "import numpy as np\n",
    "import fractions\n",
    "import math\n",
    "import matplotlib.pyplot as plt"
   ]
  },
  {
   "cell_type": "code",
   "execution_count": 2,
   "metadata": {
    "collapsed": true
   },
   "outputs": [],
   "source": [
    "def C(m,n):\n",
    "    \n",
    "    return math.factorial(m)/(math.factorial(n) * math.factorial(m-n))\n"
   ]
  },
  {
   "cell_type": "code",
   "execution_count": 3,
   "metadata": {
    "collapsed": true
   },
   "outputs": [],
   "source": [
    "def calc_likelihood(n,p):\n",
    "    likelihood=[]\n",
    "    for Pi in p:\n",
    "        bernoulli = C(10,n) * np.power(Pi,n) * np.power(1-Pi,10-n)\n",
    "        likelihood.append(bernoulli)\n",
    "        \n",
    "    return likelihood"
   ]
  },
  {
   "cell_type": "code",
   "execution_count": 4,
   "metadata": {
    "collapsed": true
   },
   "outputs": [],
   "source": [
    "def calc_px(prior,likelihood):\n",
    "    px = 0.0\n",
    "    for i in range(0,11):\n",
    "        px += (prior[i]*likelihood[i])\n",
    "        \n",
    "    return px"
   ]
  },
  {
   "cell_type": "code",
   "execution_count": 5,
   "metadata": {
    "collapsed": true
   },
   "outputs": [],
   "source": [
    "def calc_posterior(prior,likelihood,px):\n",
    "    posterior = []\n",
    "    for i in range(0,11):\n",
    "        postr = prior[i] * likelihood[i] / px\n",
    "        posterior.append(postr)\n",
    "    \n",
    "    return posterior"
   ]
  },
  {
   "cell_type": "code",
   "execution_count": 6,
   "metadata": {
    "collapsed": true
   },
   "outputs": [],
   "source": [
    "def drawgraph(p,posterior,i):\n",
    "    x = np.arange(11) # position of each bar on x-axis\n",
    "    \n",
    "    plt.xticks(x,p)\n",
    "    plt.ylim([0.0,1.0])\n",
    "    \n",
    "    plt.bar(x,posterior)\n",
    "    plt.title('posterior')\n",
    "    \n",
    "    plt.show()\n",
    "    plt.savefig('%d toss.png' % i)\n",
    "    print('Figure saved to \\'%d toss.png\\'.' % i)"
   ]
  },
  {
   "cell_type": "code",
   "execution_count": 7,
   "metadata": {
    "collapsed": true
   },
   "outputs": [],
   "source": [
    "def estimate(coin,prior,p):\n",
    "    n = sum(coin) # number of heads\n",
    "    \n",
    "    likelihood = calc_likelihood(n,p)\n",
    "    #print('Likelihood = ',likelihood)\n",
    "    \n",
    "    px = calc_px(prior,likelihood)\n",
    "    #print(\"p(x) = %.5f\" % px)\n",
    "    \n",
    "    posterior = calc_posterior(prior,likelihood,px)\n",
    "    #print(\"Posterior = \",posterior)\n",
    "    \n",
    "    return posterior\n",
    "    "
   ]
  },
  {
   "cell_type": "code",
   "execution_count": 8,
   "metadata": {},
   "outputs": [],
   "source": [
    "def coin_sim():\n",
    "    # weighted random to obtain p\n",
    "    p = np.random.choice([i/10 for i in range(0,11)],p=[1/11 for i in range(0,11)])\n",
    "    #print('Probability of tossing a head is %.1f' % p)\n",
    "    \n",
    "    # coin event: 1 = head, 0 = tail\n",
    "    # toss 10 coins\n",
    "    coin = []\n",
    "    for i in range(0,10):\n",
    "        c = np.random.choice([1,0],p=[p,1-p])\n",
    "        coin.append(c)\n",
    "    \n",
    "    #print('Coin outcome: ',coin)\n",
    "    return coin"
   ]
  },
  {
   "cell_type": "code",
   "execution_count": 9,
   "metadata": {
    "collapsed": true
   },
   "outputs": [],
   "source": [
    "def main():\n",
    "    # range of possibilities of tossing a head = sample space of p\n",
    "    p = [i/10 for i in range(0,11)]\n",
    "    \n",
    "    # probablity that Pi is the probability of tossing a head = p(p) = prior\n",
    "    prior = [fractions.Fraction('1/11').limit_denominator() for i in range(0,11)]\n",
    "    \n",
    "    print('Assuming the initial distribution of the prior is [',prior[0],end='')\n",
    "    for x in prior[1:]: print(',',x,end='')\n",
    "    print(' ]',end='\\n\\n')\n",
    "    \n",
    "    # convert fraction back to float\n",
    "    prior = [float(prior_i) for prior_i in prior]\n",
    "    \n",
    "    \n",
    "    for i in range(1,51):\n",
    "        # coin outcome\n",
    "        coin = coin_sim()\n",
    "        \n",
    "        # calculate posterior\n",
    "        posterior=estimate(coin,prior,p)\n",
    "        \n",
    "        # draw graph?\n",
    "        if i%10==0: \n",
    "            print('~'*15,' %d iteration ' % i,'~'*15)\n",
    "            drawgraph(p,posterior,i)\n",
    "            \n",
    "        # update prior\n",
    "        prior = posterior"
   ]
  },
  {
   "cell_type": "code",
   "execution_count": 10,
   "metadata": {
    "scrolled": true
   },
   "outputs": [
    {
     "name": "stdout",
     "output_type": "stream",
     "text": [
      "Assuming the initial distribution of the prior is [ 1/11, 1/11, 1/11, 1/11, 1/11, 1/11, 1/11, 1/11, 1/11, 1/11, 1/11 ]\n",
      "\n",
      "~~~~~~~~~~~~~~~  10 iteration  ~~~~~~~~~~~~~~~\n"
     ]
    },
    {
     "data": {
      "image/png": "[encoded data removed]",
      "text/plain": [
       "<matplotlib.figure.Figure at 0x2084dcc7f98>"
      ]
     },
     "metadata": {},
     "output_type": "display_data"
    },
    {
     "name": "stdout",
     "output_type": "stream",
     "text": [
      "Figure saved to '10 toss.png'.\n",
      "~~~~~~~~~~~~~~~  20 iteration  ~~~~~~~~~~~~~~~\n"
     ]
    },
    {
     "data": {
      "image/png": "[encoded data removed]",
      "text/plain": [
       "<matplotlib.figure.Figure at 0x2084dfe1f98>"
      ]
     },
     "metadata": {},
     "output_type": "display_data"
    },
    {
     "name": "stdout",
     "output_type": "stream",
     "text": [
      "Figure saved to '20 toss.png'.\n",
      "~~~~~~~~~~~~~~~  30 iteration  ~~~~~~~~~~~~~~~\n"
     ]
    },
    {
     "data": {
      "image/png": "[encoded data removed]",
      "text/plain": [
       "<matplotlib.figure.Figure at 0x2084e042e10>"
      ]
     },
     "metadata": {},
     "output_type": "display_data"
    },
    {
     "name": "stdout",
     "output_type": "stream",
     "text": [
      "Figure saved to '30 toss.png'.\n",
      "~~~~~~~~~~~~~~~  40 iteration  ~~~~~~~~~~~~~~~\n"
     ]
    },
    {
     "data": {
      "image/png": "[encoded data removed]",
      "text/plain": [
       "<matplotlib.figure.Figure at 0x2084e05b128>"
      ]
     },
     "metadata": {},
     "output_type": "display_data"
    },
    {
     "name": "stdout",
     "output_type": "stream",
     "text": [
      "Figure saved to '40 toss.png'.\n",
      "~~~~~~~~~~~~~~~  50 iteration  ~~~~~~~~~~~~~~~\n"
     ]
    },
    {
     "data": {
      "image/png": "[encoded data removed]",
      "text/plain": [
       "<matplotlib.figure.Figure at 0x2084e0e9668>"
      ]
     },
     "metadata": {},
     "output_type": "display_data"
    },
    {
     "name": "stdout",
     "output_type": "stream",
     "text": [
      "Figure saved to '50 toss.png'.\n"
     ]
    }
   ],
   "source": [
    "if __name__ == '__main__':\n",
    "    main()"
   ]
  }
 ],
 "metadata": {
  "kernelspec": {
   "display_name": "Python 3",
   "language": "python",
   "name": "python3"
  },
  "language_info": {
   "codemirror_mode": {
    "name": "ipython",
    "version": 3
   },
   "file_extension": ".py",
   "mimetype": "text/x-python",
   "name": "python",
   "nbconvert_exporter": "python",
   "pygments_lexer": "ipython3",
   "version": "3.6.1"
  }
 },
 "nbformat": 4,
 "nbformat_minor": 2
}
