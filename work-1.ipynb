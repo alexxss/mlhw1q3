{
 "cells": [
  {
   "cell_type": "code",
   "execution_count": 1,
   "metadata": {
    "collapsed": true
   },
   "outputs": [],
   "source": [
    "# import stuff\n",
    "import numpy as np\n",
    "import fractions\n",
    "import math\n",
    "import matplotlib.pyplot as plt"
   ]
  },
  {
   "cell_type": "code",
   "execution_count": 2,
   "metadata": {
    "collapsed": true
   },
   "outputs": [],
   "source": [
    "def C(m,n):\n",
    "    \n",
    "    return math.factorial(m)/(math.factorial(n) * math.factorial(m-n))\n"
   ]
  },
  {
   "cell_type": "code",
   "execution_count": 3,
   "metadata": {
    "collapsed": true
   },
   "outputs": [],
   "source": [
    "def calc_likelihood(n,p):\n",
    "    likelihood=[]\n",
    "    for Pi in p:\n",
    "        bernoulli = C(10,n) * np.power(Pi,n) * np.power(1-Pi,10-n)\n",
    "        likelihood.append(bernoulli)\n",
    "        \n",
    "    return likelihood"
   ]
  },
  {
   "cell_type": "code",
   "execution_count": 4,
   "metadata": {
    "collapsed": true
   },
   "outputs": [],
   "source": [
    "def calc_px(prior,likelihood):\n",
    "    px = 0.0\n",
    "    for i in range(0,11):\n",
    "        px += (prior[i]*likelihood[i])\n",
    "        \n",
    "    return px"
   ]
  },
  {
   "cell_type": "code",
   "execution_count": 5,
   "metadata": {
    "collapsed": true
   },
   "outputs": [],
   "source": [
    "def calc_posterior(prior,likelihood,px):\n",
    "    posterior = []\n",
    "    for i in range(0,11):\n",
    "        postr = prior[i] * likelihood[i] / px\n",
    "        posterior.append(postr)\n",
    "    \n",
    "    return posterior"
   ]
  },
  {
   "cell_type": "code",
   "execution_count": 6,
   "metadata": {
    "collapsed": true
   },
   "outputs": [],
   "source": [
    "def drawgraph(p,prior,likelihood,posterior):\n",
    "    x = np.arange(11) # position of each bar on x-axis\n",
    "    \n",
    "    f, (p0,p1,p2) = plt.subplots(1,3,gridspec_kw = {'width_ratios':[1,1,1]})\n",
    "    f.set_figwidth(20)\n",
    "    \n",
    "    plt.setp((p0,p1,p2),xticks=x,xticklabels=p,ylim=[0.0,1.0])\n",
    "    \n",
    "    p0.bar(x,prior)\n",
    "    p0.set_title('prior')\n",
    "    \n",
    "    p1.bar(x,likelihood)\n",
    "    p1.set_title('likelihood')\n",
    "    \n",
    "    p2.bar(x,posterior)\n",
    "    p2.set_title('posterior')\n",
    "    \n",
    "    plt.show()"
   ]
  },
  {
   "cell_type": "code",
   "execution_count": 11,
   "metadata": {
    "collapsed": true
   },
   "outputs": [],
   "source": [
    "def main(prior):\n",
    "    # variables\n",
    "    # coin event: 1 = head, 0 = tail\n",
    "    coin = [1,1,0,0,0,0,0,0,0,0]\n",
    "    n = sum(coin) # number of heads\n",
    "    \n",
    "    # range of probabilities of tossing a head\n",
    "    p = [i/10 for i in range(0,11)]\n",
    "    \n",
    "    # probablity that Pi is the probability of tossing a head = p(p) = prior\n",
    "    print('Assuming the distribution of the prior is [',prior[0],end='')\n",
    "    for x in prior[1:]: print(',',x,end='')\n",
    "    print(' ]')\n",
    "    \n",
    "    # convert fraction back to float\n",
    "    prior = [float(prior_i) for prior_i in prior]\n",
    "    \n",
    "    likelihood = calc_likelihood(n,p)\n",
    "    #print('Likelihood = ',likelihood)\n",
    "    \n",
    "    px = calc_px(prior,likelihood)\n",
    "    #print(\"p(x) = %.5f\" % px)\n",
    "    \n",
    "    posterior = calc_posterior(prior,likelihood,px)\n",
    "    #print(\"Posterior = \",posterior)\n",
    "    \n",
    "    mle=likelihood.index(max(likelihood))/10\n",
    "    map=posterior.index(max(posterior))/10\n",
    "    print(\"Estimated p using mle: %.1f; using map: %.1f\" % (mle,map))\n",
    "    drawgraph(p,prior,likelihood,posterior)\n",
    "    "
   ]
  },
  {
   "cell_type": "code",
   "execution_count": 14,
   "metadata": {
    "scrolled": false
   },
   "outputs": [
    {
     "name": "stdout",
     "output_type": "stream",
     "text": [
      "(a) Assuming the distribution of the prior is [ 1/11, 1/11, 1/11, 1/11, 1/11, 1/11, 1/11, 1/11, 1/11, 1/11, 1/11 ]\n",
      "Estimated p using mle: 0.2; using map: 0.2\n"
     ]
    },
    {
     "data": {
      "image/png": "[encoded data removed]",
      "text/plain": [
       "<matplotlib.figure.Figure at 0x1ad317d33c8>"
      ]
     },
     "metadata": {},
     "output_type": "display_data"
    },
    {
     "name": "stdout",
     "output_type": "stream",
     "text": [
      "(b) Assuming the distribution of the prior is [ 0.01, 0.01, 0.05, 0.08, 0.15, 0.4, 0.15, 0.08, 0.05, 0.01, 0.01 ]\n",
      "Estimated p using mle: 0.2; using map: 0.3\n"
     ]
    },
    {
     "data": {
      "image/png": "[encoded data removed]",
      "text/plain": [
       "<matplotlib.figure.Figure at 0x1ad31c13e80>"
      ]
     },
     "metadata": {},
     "output_type": "display_data"
    }
   ],
   "source": [
    "if __name__ == '__main__':\n",
    "    print('(a) ',end='')\n",
    "    main([fractions.Fraction(1/11).limit_denominator() for i in range(0,11)])\n",
    "    print('(b) ',end='')\n",
    "    main([0.01,0.01,0.05,0.08,0.15,0.4,0.15,0.08,0.05,0.01,0.01])"
   ]
  }
 ],
 "metadata": {
  "kernelspec": {
   "display_name": "Python 3",
   "language": "python",
   "name": "python3"
  },
  "language_info": {
   "codemirror_mode": {
    "name": "ipython",
    "version": 3
   },
   "file_extension": ".py",
   "mimetype": "text/x-python",
   "name": "python",
   "nbconvert_exporter": "python",
   "pygments_lexer": "ipython3",
   "version": "3.6.1"
  }
 },
 "nbformat": 4,
 "nbformat_minor": 2
}
